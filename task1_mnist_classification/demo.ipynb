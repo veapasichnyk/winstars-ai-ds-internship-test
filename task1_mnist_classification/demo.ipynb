{
  "nbformat": 4,
  "nbformat_minor": 0,
  "metadata": {
    "colab": {
      "provenance": []
    },
    "kernelspec": {
      "name": "python3",
      "display_name": "Python 3"
    },
    "language_info": {
      "name": "python"
    }
  },
  "cells": [
    {
      "cell_type": "markdown",
      "source": [
        "#Image classification + OOP"
      ],
      "metadata": {
        "id": "C72jfGILvqNo"
      }
    },
    {
      "cell_type": "code",
      "execution_count": 3,
      "metadata": {
        "id": "4V_yd7emvfdf"
      },
      "outputs": [],
      "source": [
        "#Setup\n",
        "!pip install -q torch torchvision scikit-learn"
      ]
    },
    {
      "cell_type": "code",
      "source": [
        "#Imports\n",
        "import torch\n",
        "import numpy as np\n",
        "import matplotlib.pyplot as plt\n",
        "from sklearn.metrics import accuracy_score\n",
        "\n",
        "from utils.data_loader import load_mnist, prepare_for_rf, prepare_for_torch\n",
        "from models.classifier import MnistClassifier"
      ],
      "metadata": {
        "id": "iqtLtsOYwNof"
      },
      "execution_count": 11,
      "outputs": []
    },
    {
      "cell_type": "code",
      "source": [
        "#Load MNIST dataset\n",
        "trainset, testset = load_mnist()"
      ],
      "metadata": {
        "colab": {
          "base_uri": "https://localhost:8080/"
        },
        "id": "MidU6x9byZSq",
        "outputId": "af632a78-5ceb-4429-98f6-20697969f69d"
      },
      "execution_count": 5,
      "outputs": [
        {
          "output_type": "stream",
          "name": "stderr",
          "text": [
            "100%|██████████| 9.91M/9.91M [00:00<00:00, 18.5MB/s]\n",
            "100%|██████████| 28.9k/28.9k [00:00<00:00, 502kB/s]\n",
            "100%|██████████| 1.65M/1.65M [00:00<00:00, 4.70MB/s]\n",
            "100%|██████████| 4.54k/4.54k [00:00<00:00, 9.64MB/s]\n"
          ]
        }
      ]
    },
    {
      "cell_type": "code",
      "source": [
        "# For Random Forest (numpy arrays)\n",
        "X_train_rf, y_train_rf, X_test_rf, y_test_rf = prepare_for_rf(trainset, testset)\n",
        "\n",
        "# For Neural Networks (tensors)\n",
        "X_train_torch, y_train_torch, X_test_torch, y_test_torch = prepare_for_torch(trainset, testset)"
      ],
      "metadata": {
        "id": "_rWJzQz0ymVw"
      },
      "execution_count": 6,
      "outputs": []
    },
    {
      "cell_type": "code",
      "source": [
        "#Random Forest\n",
        "rf_model = MnistClassifier(algorithm=\"rf\", n_estimators=100)\n",
        "rf_model.train(X_train_rf, y_train_rf)\n",
        "rf_preds = rf_model.predict(X_test_rf)\n",
        "\n",
        "rf_acc = accuracy_score(y_test_rf, rf_preds)\n",
        "print(f\"Random Forest Accuracy: {rf_acc:.4f}\")"
      ],
      "metadata": {
        "colab": {
          "base_uri": "https://localhost:8080/"
        },
        "id": "0Ly7ESE3yxie",
        "outputId": "bc9f096a-a5de-4674-ab19-8bbe3d9a3656"
      },
      "execution_count": 7,
      "outputs": [
        {
          "output_type": "stream",
          "name": "stdout",
          "text": [
            "Random Forest Accuracy: 0.9705\n"
          ]
        }
      ]
    },
    {
      "cell_type": "code",
      "source": [
        "#Feed-Forward Neural Network\n",
        "nn_model = MnistClassifier(algorithm=\"nn\", epochs=3, batch_size=128)\n",
        "nn_model.train(X_train_torch, y_train_torch)\n",
        "nn_preds = nn_model.predict(X_test_torch)\n",
        "\n",
        "nn_acc = accuracy_score(y_test_torch, nn_preds)\n",
        "print(f\"Feed-Forward NN Accuracy: {nn_acc:.4f}\")"
      ],
      "metadata": {
        "colab": {
          "base_uri": "https://localhost:8080/"
        },
        "id": "jpW-N3-TzKSk",
        "outputId": "e265200f-cfc3-44e2-fffe-084216a39be4"
      },
      "execution_count": 8,
      "outputs": [
        {
          "output_type": "stream",
          "name": "stdout",
          "text": [
            "Feed-Forward NN Accuracy: 0.9618\n"
          ]
        }
      ]
    },
    {
      "cell_type": "code",
      "source": [
        "#Convolutional Neural Network\n",
        "cnn_model = MnistClassifier(algorithm=\"cnn\", epochs=3, batch_size=128)\n",
        "cnn_model.train(X_train_torch, y_train_torch)\n",
        "cnn_preds = cnn_model.predict(X_test_torch)\n",
        "\n",
        "cnn_acc = accuracy_score(y_test_torch, cnn_preds)\n",
        "print(f\"CNN Accuracy: {cnn_acc:.4f}\")"
      ],
      "metadata": {
        "colab": {
          "base_uri": "https://localhost:8080/"
        },
        "id": "TJpRCnAuzXrQ",
        "outputId": "2c1f2229-fe36-4f5d-d4c6-eca591604c81"
      },
      "execution_count": 9,
      "outputs": [
        {
          "output_type": "stream",
          "name": "stdout",
          "text": [
            "CNN Accuracy: 0.9879\n"
          ]
        }
      ]
    },
    {
      "cell_type": "code",
      "source": [
        "# Compare results\n",
        "print(\"\\n Final Results:\")\n",
        "print(f\"Random Forest   : {rf_acc:.4f}\")\n",
        "print(f\"Feed-Forward NN : {nn_acc:.4f}\")\n",
        "print(f\"CNN             : {cnn_acc:.4f}\")"
      ],
      "metadata": {
        "colab": {
          "base_uri": "https://localhost:8080/"
        },
        "id": "5UQBcwdY0Prc",
        "outputId": "8d0865bb-22ac-4e7f-f79a-7b21ca436774"
      },
      "execution_count": 10,
      "outputs": [
        {
          "output_type": "stream",
          "name": "stdout",
          "text": [
            "\n",
            " Final Results:\n",
            "Random Forest   : 0.9705\n",
            "Feed-Forward NN : 0.9618\n",
            "CNN             : 0.9879\n"
          ]
        }
      ]
    },
    {
      "cell_type": "code",
      "source": [
        "# Visualization of predictions\n",
        "def show_predictions(images, true_labels, rf_preds, nn_preds, cnn_preds, n=6):\n",
        "    \"\"\"\n",
        "    Display sample MNIST images with predictions from all three models.\n",
        "    \"\"\"\n",
        "    plt.figure(figsize=(15, 3))\n",
        "    for i in range(n):\n",
        "        idx = np.random.randint(0, len(images))\n",
        "        img = images[idx].squeeze()\n",
        "        true = true_labels[idx].item()\n",
        "        rf_p = rf_preds[idx]\n",
        "        nn_p = nn_preds[idx].item()\n",
        "        cnn_p = cnn_preds[idx].item()\n",
        "\n",
        "        plt.subplot(1, n, i+1)\n",
        "        plt.imshow(img, cmap=\"gray\")\n",
        "        plt.title(f\"True: {true}\\nRF:{rf_p} | NN:{nn_p} | CNN:{cnn_p}\")\n",
        "        plt.axis(\"off\")\n",
        "    plt.show()\n",
        "\n",
        "show_predictions(X_test_torch, y_test_torch, rf_preds, nn_preds, cnn_preds, n=6)"
      ],
      "metadata": {
        "colab": {
          "base_uri": "https://localhost:8080/",
          "height": 225
        },
        "id": "_wpCtLTI0fEc",
        "outputId": "c006c861-530a-4113-cf50-106c37801e18"
      },
      "execution_count": 17,
      "outputs": [
        {
          "output_type": "display_data",
          "data": {
            "text/plain": [
              "<Figure size 1500x300 with 6 Axes>"
            ],
            "image/png": "[encoded data removed]"
          },
          "metadata": {}
        }
      ]
    },
    {
      "cell_type": "markdown",
      "source": [
        "**Sample Predictions Analysis**\n",
        "- For most test digits, all three models predict correctly.\n",
        "- Random Forest sometimes confuses digits with similar shapes (e.g., 6 - 1).\n",
        "- Feed-Forward NN shows similar errors, likely due to limited feature extraction capability.\n",
        "- CNN demonstrates superior robustness, correctly handling ambiguous digits such as 6."
      ],
      "metadata": {
        "id": "loufcoO81x19"
      }
    },
    {
      "cell_type": "markdown",
      "source": [
        "### Conclusion\n",
        "- Random Forest achieved ~97% accuracy, strong baseline for MNIST.\n",
        "- Feed-Forward NN achieved ~96%, showing good learning ability but slightly lower due to limited architecture.\n",
        "- CNN achieved ~99%, proving that convolutional models are the best choice for image classification tasks."
      ],
      "metadata": {
        "id": "PIBOr94C1sqW"
      }
    },
    {
      "cell_type": "code",
      "source": [],
      "metadata": {
        "id": "9aH5SZcC1wwE"
      },
      "execution_count": null,
      "outputs": []
    }
  ]
}